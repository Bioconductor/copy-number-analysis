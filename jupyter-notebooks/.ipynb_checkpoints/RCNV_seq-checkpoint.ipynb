{
 "cells": [
  {
   "cell_type": "markdown",
   "id": "covered-croatia",
   "metadata": {},
   "source": [
    "# CNV-seq Analysis"
   ]
  },
  {
   "cell_type": "markdown",
   "id": "discrete-strength",
   "metadata": {},
   "source": [
    "This script and helper functions implements an R-only version of\n",
    "the work flow from https://github.com/hliang/cnv-seq. It uses\n",
    "GenomicRanges utilities to perform read counts across bins, and the\n",
    "`cnv` package available at the URL above for additional\n",
    "analysis. No intermediate files are generates."
   ]
  },
  {
   "cell_type": "markdown",
   "id": "apparent-shooting",
   "metadata": {},
   "source": [
    "This R script has been converted into a jupyter notebook from Bioconductor's RNCV_seq.R code from their copy-number-analysis repository https://github.com/Bioconductor/copy-number-analysis/wiki/CNV-seq."
   ]
  },
  {
   "cell_type": "markdown",
   "id": "loose-ferry",
   "metadata": {},
   "source": [
    "## <span style=\"color:red\">User Input (MANDATORY)</span>\n",
    "\n",
    "---\n",
    "<span style=\"color:red\">**NOTE:**</span>\n",
    "\n",
    "     Run the cell below once the config-CNVseq.yml file has been edited accordingly.\n",
    "\n",
    "---"
   ]
  },
  {
   "cell_type": "code",
   "execution_count": null,
   "id": "transparent-prairie",
   "metadata": {},
   "outputs": [],
   "source": [
    "configPath <- \"config/config-CNVseq.yml\""
   ]
  },
  {
   "cell_type": "markdown",
   "id": "funded-dryer",
   "metadata": {},
   "source": [
    "## Installing Required Libraries (Optional)\n",
    "Run the following cell if the libraries have not been previously installed. Otherwise, skip."
   ]
  },
  {
   "cell_type": "code",
   "execution_count": null,
   "id": "olympic-order",
   "metadata": {},
   "outputs": [],
   "source": [
    "# # install necessary libraries \n",
    "# install.packages(\"configr\")\n",
    "# install.packages(\"devtools\")\n",
    "# library(devtools)\n",
    "\n",
    "# if (!requireNamespace(\"BiocManager\", quietly = TRUE))\n",
    "#     install.packages(\"BiocManager\")\n",
    "# BiocManager::install(c(\"GenomicAlignments\"))\n",
    "\n",
    "# # install CNV-seq library from Github hliang/cnv-seq\n",
    "# devtools::install_github(\"hliang/cnv-seq/cnvHLiang\")"
   ]
  },
  {
   "cell_type": "markdown",
   "id": "alleged-classic",
   "metadata": {},
   "source": [
    "## Loading Required Libraries"
   ]
  },
  {
   "cell_type": "code",
   "execution_count": null,
   "id": "separate-jerusalem",
   "metadata": {},
   "outputs": [],
   "source": [
    "# load necessary libraries\n",
    "library(GenomicAlignments)\n",
    "library(cnvHLiang)\n",
    "library(configr)\n",
    "\n",
    "# specify source R script with helper functions\n",
    "source(\"helper-functions/RCNV_seq-helper.R\")\n",
    "source(\"helper-functions/cnvHLiang.R\")"
   ]
  },
  {
   "cell_type": "markdown",
   "id": "wired-knowing",
   "metadata": {},
   "source": [
    "## CNV Calculations and Plotting"
   ]
  },
  {
   "cell_type": "code",
   "execution_count": null,
   "id": "legendary-sending",
   "metadata": {},
   "outputs": [],
   "source": [
    "# extract config file fields and values\n",
    "config <- read.config(configPath)\n",
    "\n",
    "# store comparisons to be done\n",
    "comparisons <- config$comparisons\n",
    "comparisonNames <- names(config$comparisons)\n",
    "\n",
    "# store chromosomes to subset\n",
    "chromosomes <- chromosomes <- unlist(strsplit(config$chromosomes, \", \"))\n",
    "\n",
    "# store provided parameters\n",
    "parameters <- config$parameters\n",
    "parameterNames <- names(config$parameters)\n",
    "\n",
    "# first check if parameter exists. if exist, store value,\n",
    "# if not exist, use default values\n",
    "if ('annotate' %in% parameterNames){\n",
    "    annotate <- config$parameters$annotate\n",
    "} else {annotate <- TRUE}\n",
    "if ('bigger' %in% parameterNames){\n",
    "    bigger <- config$parameters$bigger\n",
    "} else {bigger <- 1.5}\n",
    "if ('log2' %in% parameterNames){\n",
    "    log2 <- config$parameters$log2\n",
    "} else {log2 <- 0.6}\n",
    "if ('pvalue' %in% parameterNames){\n",
    "    pvalue <- config$parameters$pvalue\n",
    "} else {pvalue <- 0.001}\n",
    "if ('window_size' %in% parameterNames){\n",
    "    window_size <- config$parameters$window_size\n",
    "} else {\n",
    "    window_size <- windowSize(files, pvalue=pvalue, log2=log2, bigger=bigger)\n",
    "}\n",
    "\n",
    "# loop per comparisons \n",
    "for (comparison in comparisonNames){\n",
    "    cat(paste(\"\\nComparison Number:\", comparison))\n",
    "    cat(paste(\"\\nComparing samples:\\n\"))\n",
    "    \n",
    "    # files to compare\n",
    "    control <- config$comparisons[comparison]$comparison$control\n",
    "    mutant <- config$comparisons[comparison]$comparison$mutant\n",
    "    \n",
    "    cat(paste(control, \"\\nvs.\\n\", mutant, \"\\n\"))\n",
    "    \n",
    "    # name mutant as \"test\" and control as \"ref\"\n",
    "    files <- file.path(c(mutant, control))\n",
    "    names(files) <- c(\"test\", \"ref\")\n",
    "    \n",
    "    # calculate overall tiles and hits\n",
    "    tiles <- tileGenomeOverlap(files, window_size)\n",
    "    hits <- summarizeOverlaps(tiles, files, binCounter)\n",
    "    \n",
    "    # subset only those chromosomes defined in config file\n",
    "    hitsChrSubset <- subset(hits, seqnames %in% chromosomes)\n",
    "    \n",
    "    # create tabulated file with dataframe\n",
    "    hitsPath <- paste(\"tab-files/\", comparison, \"-all-hits.tab\", sep=\"\")\n",
    "    hitsFile <- as.countsfile(hitsChrSubset, hitsPath)\n",
    "\n",
    "    # calculate Copy Number Variations (CNVs)\n",
    "    cnv <- cnv.cal(hitsFile, log2=log2, annotate=annotate)\n",
    "    \n",
    "    # plot all chromosomes' CNVs\n",
    "    plotAll <- plot.cnv.all(cnv, title=\"Copy Number Variants - All\", ylim=c(-5,5), colour=length(chromosomes))\n",
    "    print(plotAll)\n",
    "    \n",
    "    # loop per chromosomes\n",
    "    for (chrom in chromosomes){\n",
    "        chrSubset <- subset(hits, seqnames %in% chrom)\n",
    "        chrFilePath <-  paste(\"tab-files/\", comparison, \"-\", chrom, \".tab\", sep=\"\")\n",
    "\n",
    "        chrSubsetFile <- as.countsfile(chrSubset, chrFilePath)\n",
    "\n",
    "        cnv <- cnv.cal(chrSubsetFile, log2=log2, annotate=annotate)\n",
    "\n",
    "        p <- plot.cnv.chr(cnv, chromosome=chrom, title=chrom, ylim=c(-3,3))\n",
    "        plotTitle <- paste(\"Copy Number Variation -\", chrom)\n",
    "        print(p)\n",
    "    }\n",
    "}"
   ]
  }
 ],
 "metadata": {
  "kernelspec": {
   "display_name": "R",
   "language": "R",
   "name": "ir"
  },
  "language_info": {
   "codemirror_mode": "r",
   "file_extension": ".r",
   "mimetype": "text/x-r-source",
   "name": "R",
   "pygments_lexer": "r",
   "version": "3.6.3"
  }
 },
 "nbformat": 4,
 "nbformat_minor": 5
}
