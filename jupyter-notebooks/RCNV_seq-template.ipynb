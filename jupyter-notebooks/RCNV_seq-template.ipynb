{
 "cells": [
  {
   "cell_type": "markdown",
   "id": "covered-croatia",
   "metadata": {},
   "source": [
    "# CNV-seq Analysis"
   ]
  },
  {
   "cell_type": "markdown",
   "id": "discrete-strength",
   "metadata": {},
   "source": [
    "This script and helper functions implements an R-only version of\n",
    "the work flow from https://github.com/hliang/cnv-seq. It uses\n",
    "GenomicRanges utilities to perform read counts across bins, and the\n",
    "`cnv` package available at the URL above for additional\n",
    "analysis. No intermediate files are generates."
   ]
  },
  {
   "cell_type": "markdown",
   "id": "apparent-shooting",
   "metadata": {},
   "source": [
    "This R script has been converted into a jupyter notebook from Bioconductor's RNCV_seq.R code from their copy-number-analysis repository https://github.com/Bioconductor/copy-number-analysis/wiki/CNV-seq."
   ]
  },
  {
   "cell_type": "markdown",
   "id": "loose-ferry",
   "metadata": {},
   "source": [
    "## <span style=\"color:red\">User Input (MANDATORY)</span>\n",
    "\n",
    "---\n",
    "<span style=\"color:red\">**NOTE: Config File**</span>\n",
    "\n",
    "     Run the cell below once the config-CNVseq.yml file has been edited accordingly.\n",
    "     It can be names whatever, but the name must match.\n",
    "\n",
    "---"
   ]
  },
  {
   "cell_type": "code",
   "execution_count": null,
   "id": "transparent-prairie",
   "metadata": {},
   "outputs": [],
   "source": [
    "configPath <- \"config/config-CNVseq.yml\""
   ]
  },
  {
   "cell_type": "markdown",
   "id": "accomplished-mattress",
   "metadata": {},
   "source": [
    "---\n",
    "<span style=\"color:red\">**NOTE: Plot Y-Limits**</span>\n",
    "\n",
    "     It is recommended to inspect the CNV-plots with default y-limits and then modify.\n",
    "     Defaults:\n",
    "         yAllMax <-  5\n",
    "         yAllMin <- -5\n",
    "         yChrMax <-  5\n",
    "         yChrMin <- -5\n",
    "\n",
    "---"
   ]
  },
  {
   "cell_type": "code",
   "execution_count": null,
   "id": "fluid-drinking",
   "metadata": {},
   "outputs": [],
   "source": [
    "yAllMax <-  5\n",
    "yAllMin <- -5\n",
    "yChrMax <-  5\n",
    "yChrMin <- -5"
   ]
  },
  {
   "cell_type": "markdown",
   "id": "twelve-aluminum",
   "metadata": {},
   "source": [
    "## Installing Required Libraries (run only once)\n",
    "\n",
    "There are currently two options to install necessary packages: using R or conda. The installation needs to be run the first time the tool is used. Once the installation has run, there is no need for re-installation as the necessary packages will be already installed in the working environment."
   ]
  },
  {
   "cell_type": "markdown",
   "id": "forbidden-reservation",
   "metadata": {},
   "source": [
    "### OPTION 1 - Using R "
   ]
  },
  {
   "cell_type": "code",
   "execution_count": null,
   "id": "plain-conditioning",
   "metadata": {},
   "outputs": [],
   "source": [
    "# install necessary libraries using R functions\n",
    "if (!requireNamespace(\"BiocManager\", quietly = TRUE))\n",
    "    install.packages(\"BiocManager\")\n",
    "\n",
    "BiocManager::install(c(\"GenomicAlignments\"))\n",
    "install.packages(\"configr\")\n",
    "install.packages(\"ggplot2\")"
   ]
  },
  {
   "cell_type": "markdown",
   "id": "naval-sheep",
   "metadata": {},
   "source": [
    "### OPTION 2 - Using conda"
   ]
  },
  {
   "cell_type": "code",
   "execution_count": null,
   "id": "weekly-jacket",
   "metadata": {},
   "outputs": [],
   "source": [
    "# install \n",
    "system(\"conda install -y -c conda-forge r-biocmanager -y\", intern=TRUE)\n",
    "system(\"conda install -y -c bioconda bioconductor-genomicalignments\", intern=TRUE)\n",
    "system(\"conda install -y -c pcgr r-configr\", intern=TRUE)\n",
    "system(\"conda install -y -c r r-ggplot2\", intern=TRUE)"
   ]
  },
  {
   "cell_type": "markdown",
   "id": "alleged-classic",
   "metadata": {},
   "source": [
    "## Loading Required Libraries"
   ]
  },
  {
   "cell_type": "code",
   "execution_count": null,
   "id": "separate-jerusalem",
   "metadata": {},
   "outputs": [],
   "source": [
    "# load necessary libraries\n",
    "library(GenomicAlignments)\n",
    "library(ggplot2)\n",
    "library(configr)\n",
    "\n",
    "# specify source R script with helper functions\n",
    "source(\"helper-functions/RCNV_seq-helper.R\")\n",
    "source(\"helper-functions/cnvHLiang.R\")"
   ]
  },
  {
   "cell_type": "markdown",
   "id": "wired-knowing",
   "metadata": {},
   "source": [
    "## CNV Calculations and Plotting"
   ]
  },
  {
   "cell_type": "code",
   "execution_count": null,
   "id": "legendary-sending",
   "metadata": {},
   "outputs": [],
   "source": [
    "# extract config file fields and values\n",
    "config <- read.config(configPath)\n",
    "\n",
    "# store comparisons to be done\n",
    "comparisons <- config$comparisons\n",
    "comparisonNames <- names(config$comparisons)\n",
    "\n",
    "# store chromosomes to subset\n",
    "chromosomes <- unlist(strsplit(gsub(\" \", \"\", config$chromosomes), \",\"))\n",
    "\n",
    "# store provided parameters\n",
    "parameters <- config$parameters\n",
    "parameterNames <- names(config$parameters)\n",
    "\n",
    "# first check if parameter exists. if exist, store value,\n",
    "# if not exist, use default values\n",
    "if ('annotate' %in% parameterNames){\n",
    "    annotate <- config$parameters$annotate\n",
    "} else {annotate <- TRUE}\n",
    "if ('bigger' %in% parameterNames){\n",
    "    bigger <- config$parameters$bigger\n",
    "} else {bigger <- 1.5}\n",
    "if ('log2' %in% parameterNames){\n",
    "    log2 <- config$parameters$log2\n",
    "} else {log2 <- 0.6}\n",
    "if ('pvalue' %in% parameterNames){\n",
    "    pvalue <- config$parameters$pvalue\n",
    "} else {pvalue <- 0.001}\n",
    "\n",
    "# loop per comparisons \n",
    "for (comparison in comparisonNames){\n",
    "    cat(paste(\"\\nComparison:\", comparison))\n",
    "    cat(paste(\"\\nComparing samples:\\n\"))\n",
    "    \n",
    "    # files to compare\n",
    "    control <- config$comparisons[[comparison]]$control\n",
    "    mutant <- config$comparisons[[comparison]]$mutant\n",
    "    \n",
    "    cat(paste(control, \"\\nvs.\\n\", mutant, \"\\n\\n\"))\n",
    "    \n",
    "    # name mutant as \"test\" and control as \"ref\"\n",
    "    files <- file.path(c(mutant, control))\n",
    "    names(files) <- c(\"test\", \"ref\")\n",
    "    \n",
    "    # calculate overall captures/tiles and hits\n",
    "    if ('bed_file' %in% parameterNames) { # if 'bed_file' object present in config\n",
    "        # extract TRUE or FALSE value\n",
    "        bed_file <- config$parameters$bed_file\n",
    "        \n",
    "        if (isTRUE(bed_file)) { # bed_file == TRUE\n",
    "            # extract path to BED file\n",
    "            bedPath <- config$bed_path\n",
    "            \n",
    "            # convert BED to dataframe df\n",
    "            BEDdf <- read.table(bedPath, header=FALSE, sep=\"\\t\", stringsAsFactors=FALSE, quote=\"\")\n",
    "                        \n",
    "            # split and convert per region\n",
    "            captures <- toGRanges(BEDdf)\n",
    "            hits <- summarizeOverlaps(captures, files, binCounter)\n",
    "                        \n",
    "        } else { # bed_file == FALSE, \n",
    "            bed_file <- FALSE\n",
    "            \n",
    "            # extract window_size or calculate if missing\n",
    "            if ('window_size' %in% parameterNames){\n",
    "                window_size <- config$parameters$window_size\n",
    "            } else {\n",
    "                window_size <- windowSize(files, pvalue=pvalue, log2=log2, bigger=bigger)\n",
    "            }\n",
    "\n",
    "            tiles <- tileGenomeOverlap(files, window_size)\n",
    "            hits <- summarizeOverlaps(tiles, files, binCounter)\n",
    "        }\n",
    "    } else { # 'bed_file' object not present in config\n",
    "        bed_file <- FALSE\n",
    "        \n",
    "        # extract window_size or calculate if missing\n",
    "        if ('window_size' %in% parameterNames){\n",
    "            window_size <- config$parameters$window_size\n",
    "        } else {\n",
    "            window_size <- windowSize(files, pvalue=pvalue, log2=log2, bigger=bigger)\n",
    "        }\n",
    "\n",
    "        tiles <- tileGenomeOverlap(files, window_size)\n",
    "        hits <- summarizeOverlaps(tiles, files, binCounter)\n",
    "    }\n",
    "    \n",
    "    # subset only those chromosomes defined in config file\n",
    "    hitsChrSubset <- subset(hits, seqnames %in% chromosomes)\n",
    "    \n",
    "    # create tabulated file with dataframe\n",
    "    if (bed_file) {\n",
    "        hitsPath <- paste(\"tab-files/\", comparison, \"-all-hits-captures-BED.tab\", sep=\"\")\n",
    "        hitsFile <- as.countsfile(hitsChrSubset, hitsPath)\n",
    "    } else {\n",
    "        hitsPath <- paste(\"tab-files/\", comparison, \"-window-\", window_size, \"-all-hits.tab\", sep=\"\")\n",
    "        hitsFile <- as.countsfile(hitsChrSubset, hitsPath)\n",
    "    }\n",
    "    \n",
    "\n",
    "    # calculate Copy Number Variations (CNVs)\n",
    "    cnv <- cnv.cal(hitsFile, log2=log2, annotate=annotate)\n",
    "    \n",
    "    # print summary of CNVs per chromosome\n",
    "    cat(\"\\n\")\n",
    "    cnv.summary(cnv)\n",
    "    \n",
    "    # save all considered CNVs calculated by cnv.cal( ) function and print\n",
    "    cnvFile <- paste(\"tab-files/\", comparison, \"-all-chroms-CNV.tab\", sep=\"\")\n",
    "    cnv.print(cnv, file=cnvFile)\n",
    "    cat(\"\\n\")\n",
    "    cnv.print(cnv)\n",
    "    \n",
    "    # path to save images in png format\n",
    "    if (bed_file) {\n",
    "        pngPath <- paste(\"images/\", comparison, \"-all-chromosomes-captures-BED.png\", sep=\"\")\n",
    "        png(pngPath)\n",
    "    } else {\n",
    "        pngPath <- paste(\"images/\", \"comparing-\", comparison, \"-all-chromosomes-window-\", window_size, \".png\", sep=\"\")\n",
    "        png(pngPath)\n",
    "    }\n",
    "    \n",
    "    # plot all chromosomes' CNVs\n",
    "    plotAll <- plot.cnv.all(cnv, title=\"Copy Number Variants - All\", ylim=c(yAllMin,yAllMax), colour=2)\n",
    "    plotAll <- plotAll + labs(title=\"CNV - All Chromosomes\", \n",
    "                              subtitle=comparison, caption=pngPath) +\n",
    "                         theme(plot.title=element_text(hjust=0.5, size=16),\n",
    "                               plot.subtitle=element_text(hjust=0.5, size=14), \n",
    "                               plot.caption=element_text(hjust=0, face=\"italic\", size=12),\n",
    "                               axis.text.x=element_text(angle=20, vjust=1, hjust=1))\n",
    "    print(plotAll)\n",
    "    \n",
    "    # save and close pdf device  \n",
    "    dev.off()\n",
    "    \n",
    "    # print figure to stdout\n",
    "    print(plotAll)\n",
    "    \n",
    "    # loop per chromosomes\n",
    "    for (chrom in chromosomes){\n",
    "        # path to save images in png format\n",
    "        if (bed_file) {\n",
    "            pngPath <- paste(\"images/\", comparison, \"-chromosome-\", chrom, \"-captures-BED.png\", sep=\"\")\n",
    "            png(pngPath)\n",
    "        } else {\n",
    "            pngPath <- paste(\"images/\", comparison, \"-chromosome-\", chrom, \"-window-\", window_size, \".png\", sep=\"\")\n",
    "            png(pngPath)\n",
    "        }\n",
    "        \n",
    "        # plot chromosome CNV\n",
    "        plotChr <- plot.cnv.chr(cnv, chromosome=chrom, ylim=c(yChrMin,yChrMax))\n",
    "        plotChrTitle <- paste(\"CNV -\", chrom)\n",
    "        plotChr <- plotChr + labs(title=plotChrTitle, \n",
    "                                  subtitle=comparison, caption=pngPath) +\n",
    "                             theme(plot.title=element_text(hjust=0.5, size=14),\n",
    "                                   plot.subtitle=element_text(hjust=0.5), \n",
    "                                   plot.caption=element_text(hjust=0, face=\"italic\"))\n",
    "        print(plotChr)\n",
    "        \n",
    "        # save and close pdf device  \n",
    "        dev.off()\n",
    "        \n",
    "        # print figure to stdout\n",
    "        print(plotChr)\n",
    "    }\n",
    "}"
   ]
  },
  {
   "cell_type": "markdown",
   "id": "wound-matrix",
   "metadata": {},
   "source": [
    "## Plotting Specific Window of One Chromosome\n",
    "\n",
    "---\n",
    "<span style=\"color:red\">**NOTE: Plotting a Chromosome Window**</span>\n",
    "\n",
    "     The cell below prints a specific window of a specific chromosome. \n",
    "     The following parameters must be populated:\n",
    "\n",
    "---\n",
    "\n",
    "     \n",
    "- `chromosome` - string of chromosome name; example: `\"Chr09\"`\n",
    "- `from` - start of window in bp; both scientific notation is accepted: `100000` or `10e4`\n",
    "- `to` - end of window in bp; the same applies as in `from` parameter\n",
    "- `ylim` - y-axis bottom and upper limits; example: `ylim=c(-10, 10)`"
   ]
  },
  {
   "cell_type": "code",
   "execution_count": null,
   "id": "international-chamber",
   "metadata": {},
   "outputs": [],
   "source": [
    "plot.cnv.chr(cnv, chromosome=\" \", from= , to= , ylim=c( , ))"
   ]
  }
 ],
 "metadata": {
  "kernelspec": {
   "display_name": "R",
   "language": "R",
   "name": "ir"
  },
  "language_info": {
   "codemirror_mode": "r",
   "file_extension": ".r",
   "mimetype": "text/x-r-source",
   "name": "R",
   "pygments_lexer": "r",
   "version": "3.6.3"
  }
 },
 "nbformat": 4,
 "nbformat_minor": 5
}
